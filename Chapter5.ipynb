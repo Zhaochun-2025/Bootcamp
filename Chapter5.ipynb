{
 "cells": [
  {
   "cell_type": "code",
   "execution_count": 7,
   "metadata": {},
   "outputs": [
    {
     "name": "stdout",
     "output_type": "stream",
     "text": [
      "Name: John Smith\n",
      "Age: 45\n",
      "Name: John Smith\n",
      "Age: 45\n",
      "15\n",
      "Lena Li\n",
      "Cheese tomato pineapple\n",
      "Cheese tomato pineapple\n",
      "Cheese tomato pineapple\n"
     ]
    }
   ],
   "source": [
    "#Functions\n",
    "\n",
    "#Monday\n",
    "#function is a block of code for specific purpose and resturn data as a result\n",
    "\n",
    "#Function Syntax\n",
    "def printInfo():        #defining a function called printInfo\n",
    "    print(\"Name: John Smith\")   #printInfo will print 2 lines of info everytime called\n",
    "    print(\"Age: 45\")\n",
    "\n",
    "printInfo()\n",
    "printInfo()\n",
    "\n",
    "#Function Stages: Function def and call\n",
    "\n",
    "#Performing Calculation\n",
    "def calc( ):\n",
    "    x, y = 5, 10\n",
    "    print(x + y)\n",
    "calc()\n",
    "\n",
    "#HWK\n",
    "def myName( ):\n",
    "    print(\"Lena Li\")\n",
    "myName( )\n",
    "\n",
    "def pizzaToppings( ):\n",
    "    print('Cheese', 'tomato', 'pineapple')\n",
    "    \n",
    "pizzaToppings( )\n",
    "pizzaToppings( )\n",
    "pizzaToppings( )\n",
    "\n"
   ]
  },
  {
   "cell_type": "code",
   "execution_count": 5,
   "metadata": {},
   "outputs": [
    {
     "name": "stdout",
     "output_type": "stream",
     "text": [
      "Your name is : John Smiith\n",
      "Your name is : Amanda\n",
      "5 + 8 = 13\n",
      "3.5 + 5.5 = 9.0\n",
      "4\n",
      "16\n",
      "25\n",
      "100\n",
      "1\n",
      "9\n",
      "36\n",
      "Area:12.56\n",
      "John Smith\n",
      "John Paul Smith\n",
      "2.5\n",
      "5\n"
     ]
    }
   ],
   "source": [
    "#Tues: functions, optional parameters\n",
    "#single parameter into a function\n",
    "def printName(full_name):\n",
    "    print( \"Your name is :{}\".format(full_name))\n",
    "printName(\" John Smiith\")\n",
    "printName(\" Amanda\")\n",
    "\n",
    "#Multiple parameters\n",
    "def addNums(num1, num2):\n",
    "    result = num1 + num2\n",
    "    print( \"{} + {} = {}\" .format(num1, num2, result))\n",
    "\n",
    "addNums(5, 8)\n",
    "addNums(3.5, 5.5)\n",
    "\n",
    "#Passing a list\n",
    "numbers1 = [2, 4, 5, 10]\n",
    "numbers2 = [ 1, 3, 6]\n",
    "def squares(nums):         #define function named \"squares\" with ability to square numbers\n",
    "    for num in nums:       #For every num in the list of nums, do the following:\n",
    "        print(num**2)      #** means num squared\n",
    "squares(numbers1)\n",
    "squares(numbers2)\n",
    "\n",
    "#Setting default parameter values\n",
    "def calcArea(r, pi=3.14):\n",
    "    area = pi *(r**2)\n",
    "    print( \"Area:{}\" .format(area))\n",
    "calcArea(2)\n",
    "\n",
    "#Optional parameters\n",
    "    #set default parameter values\n",
    "def printName(first, last, middle=\"\"):\n",
    "    if middle:\n",
    "        print( \"{} {} {}\" .format(first, middle, last))\n",
    "    else: \n",
    "        print(\"{} {}\" .format(first, last))\n",
    "printName(\"John\",\"Smith\")\n",
    "printName(\"John\", \"Smith\", \"Paul\") \n",
    "\n",
    "#Named Parameter Assignment\n",
    "def addNums(num1, num2):    #define function variables\n",
    "    print(num2)      #define order it will be printed\n",
    "    print(num1)\n",
    "addNums(5, num2 = 2.5)\n",
    "\n"
   ]
  },
  {
   "cell_type": "code",
   "execution_count": null,
   "metadata": {},
   "outputs": [
    {
     "name": "stdout",
     "output_type": "stream",
     "text": [
      "<class 'tuple'>\n",
      "5\n",
      "True\n",
      "Jess\n",
      "<class 'dict'>\n",
      "John Smith\n",
      "5\n",
      "False\n",
      "A\n",
      "C\n"
     ]
    }
   ],
   "source": [
    "#Tuesday *args, **kwardgs\n",
    "\n",
    "# *args, used to take in a 'tuple' of arbitrary values\n",
    "def outputData(name, *args):        #args is everything after name,\n",
    "    print( type(args)) #this prints what type is \"args\", which will always say <class 'tuple'>, *args is always stored as a tuple\n",
    "    for arg in args:    \n",
    "        print(arg)  #print every arg in the args tuple\n",
    "outputData(\"John Smith\", 5, True, 'Jess')\n",
    "\n",
    "#**kwargs, used to take in arbitrary number of values in a function (dictionary like)\n",
    "def outputData(**kwargs):\n",
    "    print( type(kwargs))\n",
    "    print( kwargs[ \"name\" ])    #function defined to only print variable: name + num\n",
    "    print( kwargs[ \"num\" ])\n",
    "outputData(name = \"John Smith\", num = 5, b = True)\n",
    "\n",
    "#HWK\n",
    "word = input(\"enter a word:\")\n",
    "\n",
    "def check_uppercase(word):  #ENSURE variable is consistently defined \n",
    "    if word[0] == word[0].upper():  # '=' asigns a value, \n",
    "                                    #whereas '==' compares and return true if equal\n",
    "        print(\"true\")\n",
    "    else:\n",
    "        print(\"False\")\n",
    "\n",
    "check_uppercase(word)\n",
    "\n",
    "#2\n",
    "def printName(first_name=\"\", last_name=\"\"):\n",
    "    if first_name:\n",
    "        print(\"{}\" .format(first_name))\n",
    "    if last_name:\n",
    "        print(\"{}\" .format(last_name))\n",
    "    else:\n",
    "        print(\"No name passed in\")\n",
    "printName(\"A\", \"C\")"
   ]
  },
  {
   "cell_type": "code",
   "execution_count": null,
   "metadata": {},
   "outputs": [
    {
     "name": "stdout",
     "output_type": "stream",
     "text": [
      "10.0\n",
      "20\n",
      "True\n",
      "LenaLi\n",
      "You entered: Apple\n"
     ]
    }
   ],
   "source": [
    "#Wednesday: Return statement to store info into a variable\n",
    "def addNums(num1, num2):\n",
    "    return num1 + num2  #return sends information back to where the function call occured\n",
    "num = addNums(5.5, 4.5) # 'return' tells what to do with the information\n",
    "print(num)\n",
    "print(addNums(10,10))\n",
    "\n",
    "#Ternary Operator\n",
    "def searchList(aList, el):\n",
    "    return True if el in aList else False   #Tert Ope: a shorthand python branching statement,to assign values into a variable\n",
    "result = searchList([\"one\", 2, \"three\"], 2)\n",
    "print(result)\n",
    "\n",
    "#HWK\n",
    "def printName(first_name, last_name):\n",
    "    return first_name + last_name\n",
    "full_name = printName(\"Lena\", \"Li\")\n",
    "print(full_name)\n",
    "\n",
    "def user_input():\n",
    "    user_input =input(\"enter something\")\n",
    "    return user_input   #function is returned\n",
    "user_response = user_input()    #function is stored into a variable outside of the function\n",
    "print(\"You entered:\", user_response)    #print out the input\n",
    "\n",
    "\n",
    "\n"
   ]
  },
  {
   "cell_type": "code",
   "execution_count": 20,
   "metadata": {},
   "outputs": [
    {
     "name": "stdout",
     "output_type": "stream",
     "text": [
      "function\n",
      "Before altering:['baseball', 'football', 'hockey', 'basketball']\n",
      "After Altering:['soccer', 'football', 'hockey', 'basketball']\n"
     ]
    }
   ],
   "source": [
    "#Thursday: Scope\n",
    "# Types of Scopes: Global, function and class\n",
    "\n",
    "#Global Scope Access\n",
    "number = 5\n",
    "def scopeTest(number):\n",
    "    number += 1\n",
    "    scopeTest() #not accesible due to function level scope\n",
    "\n",
    "#Handling Function Scope\n",
    "def scopeTest():\n",
    "    word = \"function\"   #inside the function, a variable word is created + assigned as \"function\"\n",
    "    return word     #access variables (word) defined in the function (as \"function\")\n",
    "value = scopeTest() #assigns the function (scopeTest) to variable \"value\"\n",
    "print(value)\n",
    "\n",
    "#In-place algorithms\n",
    "sports = [\"baseball\", \"football\", \"hockey\", \"basketball\"]\n",
    "def change(aList):\n",
    "    aList[ 0 ] = \"soccer\"\n",
    "print(\"Before altering:{}\" .format(sports))\n",
    "change(sports)\n",
    "print( \"After Altering:{}\" .format(sports))\n",
    "\n",
    "\n",
    "\n"
   ]
  },
  {
   "cell_type": "code",
   "execution_count": null,
   "metadata": {},
   "outputs": [
    {
     "name": "stdout",
     "output_type": "stream",
     "text": [
      "Before altering: ['Bob', 'Rich', 'Amanda']\n",
      "After altering:['Bob', 'Bill', 'Amanda']\n"
     ]
    }
   ],
   "source": [
    "#HWK\n",
    "names = ['Bob', 'Rich','Amanda']\n",
    "def changeValue(aList, name, index):\n",
    "    aList[index] = name     # aList- the list I passed in, [index]- specific spot of the list, '=name',specify specific spot for the name\n",
    "print(\"Before altering: {}\" .format(names))\n",
    "changeValue(names, \"Bill\", 1)\n",
    "print(\"After altering:{}\" .format(names))"
   ]
  },
  {
   "cell_type": "code",
   "execution_count": null,
   "metadata": {},
   "outputs": [
    {
     "name": "stdout",
     "output_type": "stream",
     "text": [
      "Here is your cart:\n",
      "- Purse\n"
     ]
    }
   ],
   "source": [
    "# Friday Challenge\n",
    "#import necessary functions\n",
    "from IPython.display import clear_output\n",
    "# global list variable\n",
    "cart = [ ]\n",
    "\n",
    "# create function to add items to cart\n",
    "def addItem(item):\n",
    "    clear_output()  #used to remove any preious output from the notebook cell before \"{} has been added\"\n",
    "    cart.append(item)   \n",
    "    print(\"{} has been added.\" .format(item))\n",
    "\n",
    "#removing items\n",
    "def removeItem(item):\n",
    "    clear_output()  #remove previous output from the notebook cell \n",
    "    try:        #try and except clause, \n",
    "        cart.remove(item)\n",
    "        print(\"{} has been removed\" .format(item))\n",
    "    except:     #bc if item to be removed don't exist, the program will crash\n",
    "        print(\"sorry we could not remove that item.\")\n",
    "\n",
    "#showing the cart\n",
    "def showCart():\n",
    "    clear_output()\n",
    "    if cart:        #if and else clause. The if allows items to loop over and output one per line\n",
    "        print(\"Here is your cart:\")\n",
    "        for item in cart:\n",
    "            print(\"- {}\" .format(item))\n",
    "    else:\n",
    "        print(\"Your cart is empty\")\n",
    "\n",
    "#clearing the cart\n",
    "def clearCart():\n",
    "    clear_output()\n",
    "    cart.clear()    #the built-in clear method\n",
    "    print(\"Your cart is empty.\")\n",
    "\n",
    "#Creating the main Loop\n",
    "def main():\n",
    "    done = False        #means loop should keep running (always as \"done = false\")\n",
    "    while not done:\n",
    "        ans = input (\"quit/add/remove/show/clear: \") .lower()\n",
    "        # base case\n",
    "        if ans == \"quit\":\n",
    "            print(\"Thanks for using our program.\")\n",
    "            showCart( )\n",
    "            done = True #breaks the loop and ends the program \n",
    "        elif ans == \"add\":\n",
    "            item = input(\"What would you like to add?\") .title()\n",
    "            addItem(item)\n",
    "        elif ans == \"remove\":\n",
    "            showCart()\n",
    "            item = input(\"What item would you like to remove?\") .title()\n",
    "            removeItem(item)\n",
    "        elif ans == \"show\":\n",
    "            showCart()\n",
    "        elif ans == \"clear\":\n",
    "            clearCart()\n",
    "        else:\n",
    "            print (\"Sorry that was not an option\")\n",
    "main () #run the program\n",
    "\n"
   ]
  },
  {
   "cell_type": "code",
   "execution_count": null,
   "metadata": {},
   "outputs": [
    {
     "name": "stdout",
     "output_type": "stream",
     "text": [
      "3.0 + 5.0 = 8.0\n"
     ]
    }
   ],
   "source": [
    "# Challenge 2 Week 6\n",
    "\n",
    "def add_numbers(a,b):\n",
    "    return a + b\n",
    "a= float(input(\"Enter total two numbers in numerically, enter the first number\"))\n",
    "b= float(input(\"enter the second number\"))\n",
    "print(\"{} + {} = {}\" .format(a,b,add_numbers(a,b)))\n",
    "\n",
    "\n",
    "    \n"
   ]
  },
  {
   "cell_type": "code",
   "execution_count": null,
   "metadata": {},
   "outputs": [],
   "source": [
    "# Challenge 2 Week 6\n",
    "\n",
    "def add_numbers(a,b):\n",
    "    return a + b\n",
    "a= float(input(\"Enter total two numbers in numerically, enter the first number\"))\n",
    "b= float(input(\"enter the second number\"))\n",
    "print(\"{} + {} = {}\" .format(a,b,add_numbers(a,b)))"
   ]
  },
  {
   "cell_type": "code",
   "execution_count": null,
   "metadata": {},
   "outputs": [],
   "source": [
    "#Challenge 3\n",
    "def greet_with_default (name=\"\",greeting = \"Hello\"):\n",
    "    if name:\n",
    "        print(\"{},{}\" .format(greet_with_default(name, greeting)))\n",
    "    else:\n",
    "        print(\"{}\", greet_with_default(greeting))\n",
    "\n",
    "\n",
    "#Challenge 4\n",
    "# keep input and listing of numbers outside of function\n",
    "# make function specific for finidng the average \n"
   ]
  }
 ],
 "metadata": {
  "kernelspec": {
   "display_name": "bootcamp",
   "language": "python",
   "name": "python3"
  },
  "language_info": {
   "codemirror_mode": {
    "name": "ipython",
    "version": 3
   },
   "file_extension": ".py",
   "mimetype": "text/x-python",
   "name": "python",
   "nbconvert_exporter": "python",
   "pygments_lexer": "ipython3",
   "version": "3.12.9"
  }
 },
 "nbformat": 4,
 "nbformat_minor": 2
}

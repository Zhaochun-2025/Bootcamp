{
 "cells": [
  {
   "cell_type": "code",
   "execution_count": null,
   "metadata": {},
   "outputs": [
    {
     "name": "stdout",
     "output_type": "stream",
     "text": [
      "[5, 10, 15.2, 20]\n",
      "10\n",
      "15.2\n",
      "[5, 'book', [34, 'book'], True]\n",
      "[34, 'book']\n",
      "34\n",
      "book\n",
      "[5, 10, 15, 20]\n",
      "[100, 10, 15, 20]\n",
      "4527532864\n",
      "a: [5, 10]\t b:[5, 10]\n",
      "Location a[0]: 4382171776\t Location b[0]: 4382171776\t\n",
      "a: [20, 10]\t b:[20, 10]\n",
      "data:[50, 10, 15, 20]\t data_copy:[5, 10, 15, 20]\n",
      "I like to play basketball\n",
      "I like to play netball\n",
      "J A S K\n",
      "Value:0\n",
      "Value:1\n",
      "Value:2\n",
      "Value:3\n",
      "Value:4\n",
      "Value:2\n",
      "Value:4\n",
      "Value:6\n",
      "Value:8\n",
      "Value:J\n",
      "Value:o\n",
      "Value:h\n",
      "Value:n\n",
      "Value: \n",
      "Value:S\n",
      "Value:m\n",
      "Value:i\n",
      "Value:t\n",
      "Value:h\n"
     ]
    }
   ],
   "source": [
    "nums = [5, 10, 15.2,20]\n",
    "print(nums)\n",
    "print (nums[1]) #will output the value at index 1=10, index 0 = 5\n",
    "num = nums[2]\n",
    "print(num)\n",
    "\n",
    "# access list within list\n",
    "data = [5, \"book\",[34,\"book\"],True]\n",
    "print(data)\n",
    "print(data[2])\n",
    "\n",
    "# access lists within lists, using another bracket\n",
    "print( data[2][0])  # accesses the inner list's index 0\n",
    "inner_list = data[2]\n",
    "print(inner_list[1])\n",
    "\n",
    "# changing values in a list\n",
    "data = [5, 10, 15,20]\n",
    "print(data)\n",
    "data[0]= 100    #changing the value at index 0 from 5 to 100 [100, 10, 15, 20]\n",
    "print(data)\n",
    "\n",
    "#Variable storage and locations\n",
    "a = [5,10]\n",
    "print (id(a))\n",
    "b=a\n",
    "print( \"a: {}\\t b:{}\".format(a,b))\n",
    "print( \"Location a[0]: {}\\t Location b[0]: {}\\t\" .format(id(a[0]), id(b[0])))\n",
    "a[0]=20 #redelcare value of a[0] and also b[0]\n",
    "print(\"a: {}\\t b:{}\" .format(a,b))\n",
    "\n",
    "#Copying a list\n",
    "data = [5, 10, 15, 20]\n",
    "data_copy = data[ : ] #a single colon copies the list, changing the index won't change the copied list OR \" .copy()\"\n",
    "data[0] = 50\n",
    "print( \"data:{}\\t data_copy:{}\" .format(data, data_copy))\n",
    "\n",
    "a = \"basketball\", \"netball\"\n",
    "print( \"I like to play {}\".format(a[0]))\n",
    "print( \"I like to play {}\".format(a[1]))\n",
    "\n",
    "names = ['John', 'Abraham', 'Sam', 'Kelly']\n",
    "print( names[0][0], names[1][0], names[2][0], names[3][0])\n",
    "\n",
    "#Writing a loop\n",
    "for num in range(5):\n",
    "    print(\"Value:{}\" .format(num))\n",
    "\n",
    "for num in range(2, 10, 2):\n",
    "    print(\"Value:{}\" .format(num))  #will print all evens between 2 and 10\n",
    "\n",
    "name =\"John Smith\"\n",
    "for letter in name:\n",
    "    print(\"Value:{}\" .format(letter))\n",
    "\n"
   ]
  },
  {
   "cell_type": "code",
   "execution_count": 37,
   "metadata": {},
   "outputs": [
    {
     "name": "stdout",
     "output_type": "stream",
     "text": [
      "0\n",
      "1\n",
      "2\n",
      "4\n"
     ]
    }
   ],
   "source": [
    "#Continue statement\n",
    "for num in range(5):\n",
    "    if num ==3:\n",
    "        continue\n",
    "    print(num)"
   ]
  }
 ],
 "metadata": {
  "kernelspec": {
   "display_name": "bootcamp",
   "language": "python",
   "name": "python3"
  },
  "language_info": {
   "codemirror_mode": {
    "name": "ipython",
    "version": 3
   },
   "file_extension": ".py",
   "mimetype": "text/x-python",
   "name": "python",
   "nbconvert_exporter": "python",
   "pygments_lexer": "ipython3",
   "version": "3.12.9"
  }
 },
 "nbformat": 4,
 "nbformat_minor": 2
}

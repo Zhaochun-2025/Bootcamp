{
 "cells": [
  {
   "cell_type": "code",
   "execution_count": 7,
   "metadata": {},
   "outputs": [
    {
     "name": "stdout",
     "output_type": "stream",
     "text": [
      "Age out of range\n"
     ]
    }
   ],
   "source": [
    "#Challenge 4\n",
    "\n",
    "ans= int( input(\"How old are you?\"))\n",
    "\n",
    "ans1= int(input(\"What is your income?\"))\n",
    "\n",
    "try:\n",
    "    if ans <= 18 and ans1 > 50000:\n",
    "        print(\"You are eligibal for the loan\")\n",
    "    else:\n",
    "        print(\"Age out of range\")\n",
    "except:\n",
    "    print(\"Invalid value\")"
   ]
  },
  {
   "cell_type": "code",
   "execution_count": null,
   "metadata": {},
   "outputs": [],
   "source": [
    "#Challenge 5\n",
    "ans= input(\"How old are you?\")\n",
    "type(ans) = b\n",
    "if (\"b\" !=  int):\n",
    "    print(\"invalid input. Please enter a valid number\")\n",
    "elif ans => 0 and ans <= 120\n"
   ]
  }
 ],
 "metadata": {
  "kernelspec": {
   "display_name": "bootcamp",
   "language": "python",
   "name": "python3"
  },
  "language_info": {
   "codemirror_mode": {
    "name": "ipython",
    "version": 3
   },
   "file_extension": ".py",
   "mimetype": "text/x-python",
   "name": "python",
   "nbconvert_exporter": "python",
   "pygments_lexer": "ipython3",
   "version": "3.12.9"
  }
 },
 "nbformat": 4,
 "nbformat_minor": 2
}
